{
 "cells": [
  {
   "cell_type": "markdown",
   "metadata": {},
   "source": [
    "# Estimating text loss in Middle Dutch chivalric epics"
   ]
  },
  {
   "cell_type": "markdown",
   "metadata": {},
   "source": [
    "This English-language, Python notebook accompanies the following publication:\n",
    "\n",
    "> Mike Kestemont and Folgert Karsdorp, \"Het Atlantis van de Middelnederlandse ridderepiek. Een schatting van het tekstverlies met methodes uit de ecodiversiteit\". *Spiegel der letteren* (2020).\n",
    "\n",
    "All figures and numbers were prepared using the code below. Future updates of the code and data will be managed in an open [Github repository](https://github.com/mikekestemont/chivalric_diversity). The code block below loads all (third-party) packages and modules necessary to run the module. These can be installed from the file `requirements.txt`:\n",
    "\n",
    "    pip install -r requirements.txt"
   ]
  },
  {
   "cell_type": "code",
   "execution_count": 1,
   "metadata": {},
   "outputs": [],
   "source": [
    "from functools import partial\n",
    "from itertools import product\n",
    "\n",
    "import numpy as np\n",
    "np.random.seed(12345)\n",
    "from scipy.special import erfinv\n",
    "import pandas as pd\n",
    "\n",
    "import matplotlib.pyplot as plt\n",
    "plt.style.use(\"tufte.mplstyle\")\n",
    "plt.rcParams[\"text.usetex\"] = False\n",
    "%matplotlib inline\n",
    "\n",
    "import scipy.stats as stats\n",
    "from scipy.special import gammaln"
   ]
  },
  {
   "cell_type": "markdown",
   "metadata": {},
   "source": [
    "## Data"
   ]
  },
  {
   "cell_type": "markdown",
   "metadata": {},
   "source": [
    "We load the data from the spreadsheet file `mnl.xlsx`:"
   ]
  },
  {
   "cell_type": "code",
   "execution_count": 2,
   "metadata": {},
   "outputs": [
    {
     "data": {
      "text/html": [
       "<div>\n",
       "<style scoped>\n",
       "    .dataframe tbody tr th:only-of-type {\n",
       "        vertical-align: middle;\n",
       "    }\n",
       "\n",
       "    .dataframe tbody tr th {\n",
       "        vertical-align: top;\n",
       "    }\n",
       "\n",
       "    .dataframe thead th {\n",
       "        text-align: right;\n",
       "    }\n",
       "</style>\n",
       "<table border=\"1\" class=\"dataframe\">\n",
       "  <thead>\n",
       "    <tr style=\"text-align: right;\">\n",
       "      <th></th>\n",
       "      <th>text</th>\n",
       "      <th>witness</th>\n",
       "    </tr>\n",
       "  </thead>\n",
       "  <tbody>\n",
       "    <tr>\n",
       "      <th>0</th>\n",
       "      <td>Aiol (1)</td>\n",
       "      <td>H1</td>\n",
       "    </tr>\n",
       "    <tr>\n",
       "      <th>1</th>\n",
       "      <td>Aiol (2)</td>\n",
       "      <td>H2</td>\n",
       "    </tr>\n",
       "    <tr>\n",
       "      <th>2</th>\n",
       "      <td>Alexanders geesten</td>\n",
       "      <td>München, Bayerische Staatsbibliotheek, Cod. ge...</td>\n",
       "    </tr>\n",
       "    <tr>\n",
       "      <th>3</th>\n",
       "      <td>Alexanders geesten</td>\n",
       "      <td>H3</td>\n",
       "    </tr>\n",
       "    <tr>\n",
       "      <th>4</th>\n",
       "      <td>Alexanders geesten</td>\n",
       "      <td>H4</td>\n",
       "    </tr>\n",
       "    <tr>\n",
       "      <th>5</th>\n",
       "      <td>Alexanders geesten</td>\n",
       "      <td>H5</td>\n",
       "    </tr>\n",
       "    <tr>\n",
       "      <th>6</th>\n",
       "      <td>Alexanders geesten</td>\n",
       "      <td>H6</td>\n",
       "    </tr>\n",
       "    <tr>\n",
       "      <th>7</th>\n",
       "      <td>Arturs doet</td>\n",
       "      <td>Den Haag, KB, 129 A 10, fol. 201r-238r</td>\n",
       "    </tr>\n",
       "    <tr>\n",
       "      <th>8</th>\n",
       "      <td>Arturs doet</td>\n",
       "      <td>Rijksarchief te Antwerpen, Sint-Catharinakapit...</td>\n",
       "    </tr>\n",
       "    <tr>\n",
       "      <th>9</th>\n",
       "      <td>Aubri de Borgengoen</td>\n",
       "      <td>H7</td>\n",
       "    </tr>\n",
       "  </tbody>\n",
       "</table>\n",
       "</div>"
      ],
      "text/plain": [
       "                  text                                            witness\n",
       "0             Aiol (1)                                                 H1\n",
       "1             Aiol (2)                                                 H2\n",
       "2   Alexanders geesten  München, Bayerische Staatsbibliotheek, Cod. ge...\n",
       "3   Alexanders geesten                                                 H3\n",
       "4   Alexanders geesten                                                 H4\n",
       "5   Alexanders geesten                                                 H5\n",
       "6   Alexanders geesten                                                 H6\n",
       "7          Arturs doet             Den Haag, KB, 129 A 10, fol. 201r-238r\n",
       "8          Arturs doet  Rijksarchief te Antwerpen, Sint-Catharinakapit...\n",
       "9  Aubri de Borgengoen                                                 H7"
      ]
     },
     "execution_count": 2,
     "metadata": {},
     "output_type": "execute_result"
    }
   ],
   "source": [
    "mnl = pd.read_excel('mnl.xlsx', header=None, names=('text', 'witness'))\n",
    "mnl.head(10)"
   ]
  },
  {
   "cell_type": "markdown",
   "metadata": {},
   "source": [
    "We are only interested in the count data, i.e. the number of witnesses per text (the technical term is \"abundance data\")."
   ]
  },
  {
   "cell_type": "code",
   "execution_count": 3,
   "metadata": {},
   "outputs": [
    {
     "data": {
      "text/plain": [
       "text\n",
       "Historie van Troyen       16\n",
       "Roman van Limborch        10\n",
       "Madelgijs                 10\n",
       "Karel ende Elegast         7\n",
       "Parthonopeus van Bloys     6\n",
       "dtype: int64"
      ]
     },
     "execution_count": 3,
     "metadata": {},
     "output_type": "execute_result"
    }
   ],
   "source": [
    "mnl.groupby('text').size().sort_values(ascending=False).head()"
   ]
  },
  {
   "cell_type": "markdown",
   "metadata": {},
   "source": [
    "The counts per text can be plotted as follows:"
   ]
  },
  {
   "cell_type": "code",
   "execution_count": 4,
   "metadata": {},
   "outputs": [
    {
     "data": {
      "image/png": "[encoded data removed]",
      "text/plain": [
       "<Figure size 720x1296 with 1 Axes>"
      ]
     },
     "metadata": {
      "needs_background": "light"
     },
     "output_type": "display_data"
    }
   ],
   "source": [
    "fig, ax = plt.subplots(figsize=(10,18))\n",
    "mnl.groupby('text').size().sort_values(ascending=True).plot.barh(ax=ax);\n",
    "ax.set(xlabel='aantal handschriften', ylabel='', \n",
    "       title='Distributie van de (ons bekende) ridderepische teksten over tekstgetuigen')\n",
    "ax.spines['right'].set_visible(False)\n",
    "ax.spines['top'].set_visible(False)\n",
    "plt.savefig('output/Fig1.jpeg', dpi=300, transparent=True)"
   ]
  },
  {
   "cell_type": "markdown",
   "metadata": {},
   "source": [
    "Yet a different perspective is to list the size of the frequency bins that we can distinguish within the manuscript counts:"
   ]
  },
  {
   "cell_type": "code",
   "execution_count": 5,
   "metadata": {},
   "outputs": [
    {
     "data": {
      "text/html": [
       "<div>\n",
       "<style scoped>\n",
       "    .dataframe tbody tr th:only-of-type {\n",
       "        vertical-align: middle;\n",
       "    }\n",
       "\n",
       "    .dataframe tbody tr th {\n",
       "        vertical-align: top;\n",
       "    }\n",
       "\n",
       "    .dataframe thead th {\n",
       "        text-align: right;\n",
       "    }\n",
       "</style>\n",
       "<table border=\"1\" class=\"dataframe\">\n",
       "  <thead>\n",
       "    <tr style=\"text-align: right;\">\n",
       "      <th></th>\n",
       "      <th>aantal teksten</th>\n",
       "      <th>aantal handschriften</th>\n",
       "    </tr>\n",
       "  </thead>\n",
       "  <tbody>\n",
       "    <tr>\n",
       "      <th>1</th>\n",
       "      <td>44</td>\n",
       "      <td>1</td>\n",
       "    </tr>\n",
       "    <tr>\n",
       "      <th>2</th>\n",
       "      <td>13</td>\n",
       "      <td>2</td>\n",
       "    </tr>\n",
       "    <tr>\n",
       "      <th>3</th>\n",
       "      <td>6</td>\n",
       "      <td>3</td>\n",
       "    </tr>\n",
       "    <tr>\n",
       "      <th>4</th>\n",
       "      <td>3</td>\n",
       "      <td>4</td>\n",
       "    </tr>\n",
       "    <tr>\n",
       "      <th>5</th>\n",
       "      <td>3</td>\n",
       "      <td>5</td>\n",
       "    </tr>\n",
       "    <tr>\n",
       "      <th>6</th>\n",
       "      <td>1</td>\n",
       "      <td>6</td>\n",
       "    </tr>\n",
       "    <tr>\n",
       "      <th>7</th>\n",
       "      <td>1</td>\n",
       "      <td>7</td>\n",
       "    </tr>\n",
       "    <tr>\n",
       "      <th>10</th>\n",
       "      <td>2</td>\n",
       "      <td>10</td>\n",
       "    </tr>\n",
       "    <tr>\n",
       "      <th>16</th>\n",
       "      <td>1</td>\n",
       "      <td>16</td>\n",
       "    </tr>\n",
       "  </tbody>\n",
       "</table>\n",
       "</div>"
      ],
      "text/plain": [
       "    aantal teksten  aantal handschriften\n",
       "1               44                     1\n",
       "2               13                     2\n",
       "3                6                     3\n",
       "4                3                     4\n",
       "5                3                     5\n",
       "6                1                     6\n",
       "7                1                     7\n",
       "10               2                    10\n",
       "16               1                    16"
      ]
     },
     "execution_count": 5,
     "metadata": {},
     "output_type": "execute_result"
    }
   ],
   "source": [
    "types = mnl.groupby('text').size().sort_values(ascending=False).value_counts().sort_index()\n",
    "types = types.to_frame(name='aantal teksten')\n",
    "types['aantal handschriften'] = types.index\n",
    "types.to_excel('output/Tab1.xlsx')\n",
    "types"
   ]
  },
  {
   "cell_type": "markdown",
   "metadata": {},
   "source": [
    "Finally, we define the auxiliary function `species_richness` to count the number of unique texts in the data (i.e. the number of non-zero counts):"
   ]
  },
  {
   "cell_type": "code",
   "execution_count": 6,
   "metadata": {},
   "outputs": [
    {
     "name": "stdout",
     "output_type": "stream",
     "text": [
      "# unique texts: 74\n",
      "# witnesses: 164\n"
     ]
    }
   ],
   "source": [
    "def species_richness(counts):\n",
    "    return np.sum(counts > 0)\n",
    "\n",
    "print('# unique texts:', species_richness(mnl.groupby('text').size()))\n",
    "print('# witnesses:', len(mnl))"
   ]
  },
  {
   "cell_type": "markdown",
   "metadata": {},
   "source": [
    "## Jackknife"
   ]
  },
  {
   "cell_type": "markdown",
   "metadata": {},
   "source": [
    "The following function computes the first-order Jackknife estimate, on the basis of the abundance data in our data frame, as well as a confidence interval (.95 be default). This approach is detailed in the following paper:\n",
    "\n",
    "> K. Burnham & W. Overton, \"Robust Estimation of Population Size When Capture Probabilities Vary Among Animals\". *Ecology* (1979), 927-936."
   ]
  },
  {
   "cell_type": "code",
   "execution_count": 7,
   "metadata": {},
   "outputs": [
    {
     "name": "stdout",
     "output_type": "stream",
     "text": [
      "jackknife-estimate (order=1): 117.73170731707278 [106.64468284 128.8187318 ]\n"
     ]
    }
   ],
   "source": [
    "def jackknife(data, conf_lvl=0.95):\n",
    "    jack_stat = species_richness(data)\n",
    "    \n",
    "    x = np.array(sum([[i] * c for i, c in enumerate(data, 1)], []))\n",
    "    index = np.arange(x.shape[0])\n",
    "    \n",
    "    vals = []\n",
    "    for i in range(x.shape[0]):\n",
    "        t = x[index != i]\n",
    "        vals.append(species_richness(np.bincount(t)))\n",
    "    \n",
    "    mean_jack_stat = np.mean(vals)\n",
    "    bias = (x.shape[0] - 1) * (mean_jack_stat - jack_stat)\n",
    "    \n",
    "    estimate = jack_stat - bias\n",
    "    \n",
    "    std_err = np.sqrt(\n",
    "        (x.shape[0] - 1) * \n",
    "        np.mean((mean_jack_stat - vals) * \n",
    "                (mean_jack_stat - vals), axis=0)\n",
    "    )    \n",
    "    \n",
    "    z_score = np.sqrt(2.0) * erfinv(conf_lvl)\n",
    "    conf_interval = estimate + z_score * np.array((-std_err, std_err))\n",
    "    \n",
    "    return estimate, std_err, conf_interval\n",
    "\n",
    "results = jackknife(mnl.groupby('text').size())\n",
    "print('jackknife-estimate (order=1):', results[0], results[-1])"
   ]
  },
  {
   "cell_type": "markdown",
   "metadata": {},
   "source": [
    "This implementation is verbose and uses an explicit `for`-loop, which iteratively leaves out observations and tracks the drops in diversity that follow from this operation. In the code blocks below we show that the same estimate can also be obtained in a fully analytical fashion. First we calculate the frequency counts for each unique text:"
   ]
  },
  {
   "cell_type": "code",
   "execution_count": 8,
   "metadata": {},
   "outputs": [
    {
     "data": {
      "text/plain": [
       "text\n",
       "Aiol (1)                 1\n",
       "Aiol (2)                 1\n",
       "Alexanderroman           1\n",
       "Alexanders geesten       5\n",
       "Arturs doet              2\n",
       "                        ..\n",
       "Van den bere Wisselau    1\n",
       "Walewein ende Keye       1\n",
       "Willem van Oringen       1\n",
       "Willem van Oringen II    1\n",
       "Wrake van Ragisel        3\n",
       "Length: 74, dtype: int64"
      ]
     },
     "execution_count": 8,
     "metadata": {},
     "output_type": "execute_result"
    }
   ],
   "source": [
    "num_per_text = mnl.groupby('text').size()\n",
    "num_per_text"
   ]
  },
  {
   "cell_type": "markdown",
   "metadata": {},
   "source": [
    "Next, we store the species richness (the number of unique texts) in $t$:"
   ]
  },
  {
   "cell_type": "code",
   "execution_count": 9,
   "metadata": {},
   "outputs": [
    {
     "data": {
      "text/plain": [
       "74"
      ]
     },
     "execution_count": 9,
     "metadata": {},
     "output_type": "execute_result"
    }
   ],
   "source": [
    "t = species_richness(num_per_text)\n",
    "t"
   ]
  },
  {
   "cell_type": "markdown",
   "metadata": {},
   "source": [
    "Then we set $s$ to the number of texts that are only attested in a single witness:"
   ]
  },
  {
   "cell_type": "code",
   "execution_count": 10,
   "metadata": {},
   "outputs": [
    {
     "data": {
      "text/plain": [
       "44"
      ]
     },
     "execution_count": 10,
     "metadata": {},
     "output_type": "execute_result"
    }
   ],
   "source": [
    "s = sum(num_per_text == 1)\n",
    "s"
   ]
  },
  {
   "cell_type": "markdown",
   "metadata": {},
   "source": [
    "Only the $s$ texts that occur once will affect the species richness during the iterative Jackknife procedure. We can therefore predict that we will obtain the following deviations when applying the bootstrap:"
   ]
  },
  {
   "cell_type": "code",
   "execution_count": 11,
   "metadata": {},
   "outputs": [
    {
     "data": {
      "text/plain": [
       "73.4054054054054"
      ]
     },
     "execution_count": 11,
     "metadata": {},
     "output_type": "execute_result"
    }
   ],
   "source": [
    "mu = (((t - s) * t) + (s * (t - 1))) / t\n",
    "mu"
   ]
  },
  {
   "cell_type": "markdown",
   "metadata": {},
   "source": [
    "That means that we can calculate the bias as follows:"
   ]
  },
  {
   "cell_type": "code",
   "execution_count": 12,
   "metadata": {},
   "outputs": [
    {
     "data": {
      "text/plain": [
       "-43.405405405405546"
      ]
     },
     "execution_count": 12,
     "metadata": {},
     "output_type": "execute_result"
    }
   ],
   "source": [
    "bias = (t - 1) * (mu - t)\n",
    "bias"
   ]
  },
  {
   "cell_type": "markdown",
   "metadata": {},
   "source": [
    "To account for this bias, we can subtract it from the original species richness in the observed data:"
   ]
  },
  {
   "cell_type": "code",
   "execution_count": 13,
   "metadata": {},
   "outputs": [
    {
     "data": {
      "text/plain": [
       "117.40540540540555"
      ]
     },
     "execution_count": 13,
     "metadata": {},
     "output_type": "execute_result"
    }
   ],
   "source": [
    "t - bias"
   ]
  },
  {
   "cell_type": "markdown",
   "metadata": {},
   "source": [
    "## Simple example"
   ]
  },
  {
   "cell_type": "code",
   "execution_count": 14,
   "metadata": {},
   "outputs": [
    {
     "data": {
      "text/html": [
       "<div>\n",
       "<style scoped>\n",
       "    .dataframe tbody tr th:only-of-type {\n",
       "        vertical-align: middle;\n",
       "    }\n",
       "\n",
       "    .dataframe tbody tr th {\n",
       "        vertical-align: top;\n",
       "    }\n",
       "\n",
       "    .dataframe thead th {\n",
       "        text-align: right;\n",
       "    }\n",
       "</style>\n",
       "<table border=\"1\" class=\"dataframe\">\n",
       "  <thead>\n",
       "    <tr style=\"text-align: right;\">\n",
       "      <th></th>\n",
       "      <th>naam</th>\n",
       "      <th>mss</th>\n",
       "    </tr>\n",
       "  </thead>\n",
       "  <tbody>\n",
       "    <tr>\n",
       "      <th>0</th>\n",
       "      <td>A</td>\n",
       "      <td>5</td>\n",
       "    </tr>\n",
       "    <tr>\n",
       "      <th>1</th>\n",
       "      <td>B</td>\n",
       "      <td>4</td>\n",
       "    </tr>\n",
       "    <tr>\n",
       "      <th>2</th>\n",
       "      <td>C</td>\n",
       "      <td>3</td>\n",
       "    </tr>\n",
       "    <tr>\n",
       "      <th>3</th>\n",
       "      <td>D</td>\n",
       "      <td>3</td>\n",
       "    </tr>\n",
       "    <tr>\n",
       "      <th>4</th>\n",
       "      <td>E</td>\n",
       "      <td>1</td>\n",
       "    </tr>\n",
       "    <tr>\n",
       "      <th>5</th>\n",
       "      <td>F</td>\n",
       "      <td>1</td>\n",
       "    </tr>\n",
       "    <tr>\n",
       "      <th>6</th>\n",
       "      <td>G</td>\n",
       "      <td>1</td>\n",
       "    </tr>\n",
       "    <tr>\n",
       "      <th>7</th>\n",
       "      <td>H</td>\n",
       "      <td>1</td>\n",
       "    </tr>\n",
       "    <tr>\n",
       "      <th>8</th>\n",
       "      <td>I</td>\n",
       "      <td>1</td>\n",
       "    </tr>\n",
       "  </tbody>\n",
       "</table>\n",
       "</div>"
      ],
      "text/plain": [
       "  naam  mss\n",
       "0    A    5\n",
       "1    B    4\n",
       "2    C    3\n",
       "3    D    3\n",
       "4    E    1\n",
       "5    F    1\n",
       "6    G    1\n",
       "7    H    1\n",
       "8    I    1"
      ]
     },
     "execution_count": 14,
     "metadata": {},
     "output_type": "execute_result"
    }
   ],
   "source": [
    "counts = [5, 4, 3, 3, 1, 1, 1, 1, 1]\n",
    "names = 'ABCDEFGHI'\n",
    "data = zip(counts, names)\n",
    "df = pd.DataFrame(zip(names, counts), columns=('naam', 'mss'))\n",
    "df.to_excel('output/Tab2.xlsx')\n",
    "df"
   ]
  },
  {
   "cell_type": "code",
   "execution_count": 15,
   "metadata": {},
   "outputs": [
    {
     "name": "stdout",
     "output_type": "stream",
     "text": [
      "total # of witnesses: 20\n"
     ]
    }
   ],
   "source": [
    "print('total # of witnesses:', df['mss'].sum())"
   ]
  },
  {
   "cell_type": "code",
   "execution_count": 16,
   "metadata": {},
   "outputs": [
    {
     "data": {
      "text/plain": [
       "9"
      ]
     },
     "execution_count": 16,
     "metadata": {},
     "output_type": "execute_result"
    }
   ],
   "source": [
    "species_richness(df['mss'])"
   ]
  },
  {
   "cell_type": "code",
   "execution_count": 17,
   "metadata": {},
   "outputs": [
    {
     "data": {
      "text/plain": [
       "(13.75, 1.8874586088176875, array([10.0506491, 17.4493509]))"
      ]
     },
     "execution_count": 17,
     "metadata": {},
     "output_type": "execute_result"
    }
   ],
   "source": [
    "jackknife(df['mss'])"
   ]
  },
  {
   "cell_type": "code",
   "execution_count": 18,
   "metadata": {},
   "outputs": [
    {
     "name": "stdout",
     "output_type": "stream",
     "text": [
      "['A', 'A', 'A', 'A', 'A', 'B', 'B', 'B', 'B', 'C', 'C', 'C', 'D', 'D', 'D', 'E', 'F', 'G', 'H', 'I']\n"
     ]
    }
   ],
   "source": [
    "data = np.array(df['mss'])\n",
    "x = np.array(sum([[i]*c for i, c in enumerate(data, 1)], []))\n",
    "tradition = [names[i - 1] for i in x]\n",
    "print(tradition)"
   ]
  },
  {
   "cell_type": "code",
   "execution_count": 19,
   "metadata": {},
   "outputs": [],
   "source": [
    "bootstrap = []\n",
    "for i in range(len(tradition)):\n",
    "    tradition_ = [tradition[j] for j in range(len(tradition)) if i != j]\n",
    "    \n",
    "    bootstrap.append((\n",
    "        (i + 1), tradition[i], ''.join(tradition_),\n",
    "        len(set(tradition_)), len(set(tradition_)) - len(set(tradition))))"
   ]
  },
  {
   "cell_type": "code",
   "execution_count": 20,
   "metadata": {},
   "outputs": [
    {
     "data": {
      "text/html": [
       "<div>\n",
       "<style scoped>\n",
       "    .dataframe tbody tr th:only-of-type {\n",
       "        vertical-align: middle;\n",
       "    }\n",
       "\n",
       "    .dataframe tbody tr th {\n",
       "        vertical-align: top;\n",
       "    }\n",
       "\n",
       "    .dataframe thead th {\n",
       "        text-align: right;\n",
       "    }\n",
       "</style>\n",
       "<table border=\"1\" class=\"dataframe\">\n",
       "  <thead>\n",
       "    <tr style=\"text-align: right;\">\n",
       "      <th></th>\n",
       "      <th>iteration</th>\n",
       "      <th>leftout</th>\n",
       "      <th>imputed tradition</th>\n",
       "      <th>richness</th>\n",
       "      <th>error</th>\n",
       "    </tr>\n",
       "  </thead>\n",
       "  <tbody>\n",
       "    <tr>\n",
       "      <th>0</th>\n",
       "      <td>1</td>\n",
       "      <td>A</td>\n",
       "      <td>AAAABBBBCCCDDDEFGHI</td>\n",
       "      <td>9</td>\n",
       "      <td>0</td>\n",
       "    </tr>\n",
       "    <tr>\n",
       "      <th>1</th>\n",
       "      <td>2</td>\n",
       "      <td>A</td>\n",
       "      <td>AAAABBBBCCCDDDEFGHI</td>\n",
       "      <td>9</td>\n",
       "      <td>0</td>\n",
       "    </tr>\n",
       "    <tr>\n",
       "      <th>2</th>\n",
       "      <td>3</td>\n",
       "      <td>A</td>\n",
       "      <td>AAAABBBBCCCDDDEFGHI</td>\n",
       "      <td>9</td>\n",
       "      <td>0</td>\n",
       "    </tr>\n",
       "    <tr>\n",
       "      <th>3</th>\n",
       "      <td>4</td>\n",
       "      <td>A</td>\n",
       "      <td>AAAABBBBCCCDDDEFGHI</td>\n",
       "      <td>9</td>\n",
       "      <td>0</td>\n",
       "    </tr>\n",
       "    <tr>\n",
       "      <th>4</th>\n",
       "      <td>5</td>\n",
       "      <td>A</td>\n",
       "      <td>AAAABBBBCCCDDDEFGHI</td>\n",
       "      <td>9</td>\n",
       "      <td>0</td>\n",
       "    </tr>\n",
       "    <tr>\n",
       "      <th>5</th>\n",
       "      <td>6</td>\n",
       "      <td>B</td>\n",
       "      <td>AAAAABBBCCCDDDEFGHI</td>\n",
       "      <td>9</td>\n",
       "      <td>0</td>\n",
       "    </tr>\n",
       "    <tr>\n",
       "      <th>6</th>\n",
       "      <td>7</td>\n",
       "      <td>B</td>\n",
       "      <td>AAAAABBBCCCDDDEFGHI</td>\n",
       "      <td>9</td>\n",
       "      <td>0</td>\n",
       "    </tr>\n",
       "    <tr>\n",
       "      <th>7</th>\n",
       "      <td>8</td>\n",
       "      <td>B</td>\n",
       "      <td>AAAAABBBCCCDDDEFGHI</td>\n",
       "      <td>9</td>\n",
       "      <td>0</td>\n",
       "    </tr>\n",
       "    <tr>\n",
       "      <th>8</th>\n",
       "      <td>9</td>\n",
       "      <td>B</td>\n",
       "      <td>AAAAABBBCCCDDDEFGHI</td>\n",
       "      <td>9</td>\n",
       "      <td>0</td>\n",
       "    </tr>\n",
       "    <tr>\n",
       "      <th>9</th>\n",
       "      <td>10</td>\n",
       "      <td>C</td>\n",
       "      <td>AAAAABBBBCCDDDEFGHI</td>\n",
       "      <td>9</td>\n",
       "      <td>0</td>\n",
       "    </tr>\n",
       "    <tr>\n",
       "      <th>10</th>\n",
       "      <td>11</td>\n",
       "      <td>C</td>\n",
       "      <td>AAAAABBBBCCDDDEFGHI</td>\n",
       "      <td>9</td>\n",
       "      <td>0</td>\n",
       "    </tr>\n",
       "    <tr>\n",
       "      <th>11</th>\n",
       "      <td>12</td>\n",
       "      <td>C</td>\n",
       "      <td>AAAAABBBBCCDDDEFGHI</td>\n",
       "      <td>9</td>\n",
       "      <td>0</td>\n",
       "    </tr>\n",
       "    <tr>\n",
       "      <th>12</th>\n",
       "      <td>13</td>\n",
       "      <td>D</td>\n",
       "      <td>AAAAABBBBCCCDDEFGHI</td>\n",
       "      <td>9</td>\n",
       "      <td>0</td>\n",
       "    </tr>\n",
       "    <tr>\n",
       "      <th>13</th>\n",
       "      <td>14</td>\n",
       "      <td>D</td>\n",
       "      <td>AAAAABBBBCCCDDEFGHI</td>\n",
       "      <td>9</td>\n",
       "      <td>0</td>\n",
       "    </tr>\n",
       "    <tr>\n",
       "      <th>14</th>\n",
       "      <td>15</td>\n",
       "      <td>D</td>\n",
       "      <td>AAAAABBBBCCCDDEFGHI</td>\n",
       "      <td>9</td>\n",
       "      <td>0</td>\n",
       "    </tr>\n",
       "    <tr>\n",
       "      <th>15</th>\n",
       "      <td>16</td>\n",
       "      <td>E</td>\n",
       "      <td>AAAAABBBBCCCDDDFGHI</td>\n",
       "      <td>8</td>\n",
       "      <td>-1</td>\n",
       "    </tr>\n",
       "    <tr>\n",
       "      <th>16</th>\n",
       "      <td>17</td>\n",
       "      <td>F</td>\n",
       "      <td>AAAAABBBBCCCDDDEGHI</td>\n",
       "      <td>8</td>\n",
       "      <td>-1</td>\n",
       "    </tr>\n",
       "    <tr>\n",
       "      <th>17</th>\n",
       "      <td>18</td>\n",
       "      <td>G</td>\n",
       "      <td>AAAAABBBBCCCDDDEFHI</td>\n",
       "      <td>8</td>\n",
       "      <td>-1</td>\n",
       "    </tr>\n",
       "    <tr>\n",
       "      <th>18</th>\n",
       "      <td>19</td>\n",
       "      <td>H</td>\n",
       "      <td>AAAAABBBBCCCDDDEFGI</td>\n",
       "      <td>8</td>\n",
       "      <td>-1</td>\n",
       "    </tr>\n",
       "    <tr>\n",
       "      <th>19</th>\n",
       "      <td>20</td>\n",
       "      <td>I</td>\n",
       "      <td>AAAAABBBBCCCDDDEFGH</td>\n",
       "      <td>8</td>\n",
       "      <td>-1</td>\n",
       "    </tr>\n",
       "  </tbody>\n",
       "</table>\n",
       "</div>"
      ],
      "text/plain": [
       "    iteration leftout    imputed tradition  richness  error\n",
       "0           1       A  AAAABBBBCCCDDDEFGHI         9      0\n",
       "1           2       A  AAAABBBBCCCDDDEFGHI         9      0\n",
       "2           3       A  AAAABBBBCCCDDDEFGHI         9      0\n",
       "3           4       A  AAAABBBBCCCDDDEFGHI         9      0\n",
       "4           5       A  AAAABBBBCCCDDDEFGHI         9      0\n",
       "5           6       B  AAAAABBBCCCDDDEFGHI         9      0\n",
       "6           7       B  AAAAABBBCCCDDDEFGHI         9      0\n",
       "7           8       B  AAAAABBBCCCDDDEFGHI         9      0\n",
       "8           9       B  AAAAABBBCCCDDDEFGHI         9      0\n",
       "9          10       C  AAAAABBBBCCDDDEFGHI         9      0\n",
       "10         11       C  AAAAABBBBCCDDDEFGHI         9      0\n",
       "11         12       C  AAAAABBBBCCDDDEFGHI         9      0\n",
       "12         13       D  AAAAABBBBCCCDDEFGHI         9      0\n",
       "13         14       D  AAAAABBBBCCCDDEFGHI         9      0\n",
       "14         15       D  AAAAABBBBCCCDDEFGHI         9      0\n",
       "15         16       E  AAAAABBBBCCCDDDFGHI         8     -1\n",
       "16         17       F  AAAAABBBBCCCDDDEGHI         8     -1\n",
       "17         18       G  AAAAABBBBCCCDDDEFHI         8     -1\n",
       "18         19       H  AAAAABBBBCCCDDDEFGI         8     -1\n",
       "19         20       I  AAAAABBBBCCCDDDEFGH         8     -1"
      ]
     },
     "execution_count": 20,
     "metadata": {},
     "output_type": "execute_result"
    }
   ],
   "source": [
    "df = pd.DataFrame(bootstrap, columns=('iteration', 'leftout', 'imputed tradition', 'richness', 'error'))\n",
    "df.to_excel('output/Tab3.xlsx')\n",
    "df"
   ]
  },
  {
   "cell_type": "code",
   "execution_count": 21,
   "metadata": {},
   "outputs": [
    {
     "name": "stdout",
     "output_type": "stream",
     "text": [
      "Average estimate: 8.75\n",
      "Bias: -0.25\n"
     ]
    }
   ],
   "source": [
    "mean_estimate = np.mean(df['richness'])\n",
    "print('Average estimate:', mean_estimate)\n",
    "print('Bias:', mean_estimate - 9)"
   ]
  },
  {
   "cell_type": "code",
   "execution_count": 22,
   "metadata": {},
   "outputs": [
    {
     "data": {
      "text/plain": [
       "-4.75"
      ]
     },
     "execution_count": 22,
     "metadata": {},
     "output_type": "execute_result"
    }
   ],
   "source": [
    "bias = 19 * (mean_estimate - 9)\n",
    "bias"
   ]
  },
  {
   "cell_type": "code",
   "execution_count": 23,
   "metadata": {},
   "outputs": [
    {
     "data": {
      "text/plain": [
       "13.75"
      ]
     },
     "execution_count": 23,
     "metadata": {},
     "output_type": "execute_result"
    }
   ],
   "source": [
    "corrected = 9 - bias\n",
    "corrected"
   ]
  },
  {
   "cell_type": "code",
   "execution_count": 24,
   "metadata": {},
   "outputs": [
    {
     "data": {
      "text/plain": [
       "array([10.0506491, 17.4493509])"
      ]
     },
     "execution_count": 24,
     "metadata": {},
     "output_type": "execute_result"
    }
   ],
   "source": [
    "conf_lvl = .95\n",
    "\n",
    "std_err = np.sqrt(\n",
    "    19 * np.mean((mean_estimate - df['richness']) * \n",
    "                 (mean_estimate - df['richness']), axis=0))\n",
    "    \n",
    "z_score = np.sqrt(2.0) * erfinv(conf_lvl)\n",
    "conf_interval = corrected + z_score * np.array((-std_err, std_err))\n",
    "conf_interval"
   ]
  },
  {
   "cell_type": "markdown",
   "metadata": {},
   "source": [
    "## Chao1"
   ]
  },
  {
   "cell_type": "markdown",
   "metadata": {},
   "source": [
    "In the paper we eventually opt for the more recent, non-parametric formula \"Chao1\", which is described in this paper:\n",
    "\n",
    "> A. Chao & L. Jost, ‘Estimating diversity and entropy profiles via discovery rates of new species\". *Methods in Ecology and Evolution* (2015), 873-882.\n",
    "\n",
    "Because we have \"doubletons\" in our data, we use can the following formula, where:\n",
    "- $\\hat{f_0}$ is the (theoretical) number of non-observed species/texts;\n",
    "- $f_1$ is the number of species/texts attested exactly once (\"singletons\");\n",
    "- $f_2$ is the number of species/texts attested exactly twice (\"doubletons\");\n",
    "- $n$ is the total number of individuals/manuscripts in the observed data.\n",
    "\n",
    "\\begin{equation}\n",
    "\\hat{f_0} = \\frac{(n - 1)}{n} \\frac{f_1^2}{2f_2}\n",
    "\\end{equation}\n",
    "\n",
    "The code block below returns the full, theoretical species richness as etimated by Chao1, i.e. it adds the estimated $\\hat{f_0}$ to the species richness that was observed in the sample:"
   ]
  },
  {
   "cell_type": "code",
   "execution_count": 25,
   "metadata": {},
   "outputs": [],
   "source": [
    "def chao_richness(x):\n",
    "    x, n = x[x > 0], x.sum()\n",
    "    t = x.shape[0]\n",
    "    f1, f2 = (x == 1).sum(), (x == 2).sum()\n",
    "    return t + (n - 1) / n * ((f1 ** 2 / 2 / f2) if f2 > 0 else (f1 * (f1 - 1) / 2))"
   ]
  },
  {
   "cell_type": "markdown",
   "metadata": {},
   "source": [
    "If we apply this function to our data, we obtain an even higher (but arguably more realistic) estimate of the loss in textual diversity for this literature. Note, however, that this estimate is still a theoretical *minimum estimate*, since the original loss could still be higher."
   ]
  },
  {
   "cell_type": "code",
   "execution_count": 26,
   "metadata": {},
   "outputs": [
    {
     "data": {
      "text/plain": [
       "148.00750469043152"
      ]
     },
     "execution_count": 26,
     "metadata": {},
     "output_type": "execute_result"
    }
   ],
   "source": [
    "chao_richness(num_per_text)"
   ]
  },
  {
   "cell_type": "markdown",
   "metadata": {},
   "source": [
    "Instead of reporting just this number, we apply a bootstrapped procedure in which we sample from the material using a multinomial distribution (see the Appendix Chao and Jost, 2015) and apply Chao1 to the resulting samples. This procedure allows us to calculate a .95 confidence interval for this value."
   ]
  },
  {
   "cell_type": "code",
   "execution_count": 27,
   "metadata": {},
   "outputs": [],
   "source": [
    "def bt_prob(x):\n",
    "    x, n = x[x > 0], x.sum()\n",
    "    f1, f2 = (x == 1).sum(), (x == 2).sum()\n",
    "    C = 1 - f1 / n * (((n - 1) * f1 / ((n - 1) * f1 + 2 * f2)) if f2 > 0 else\n",
    "                      ((n - 1) * (f1 - 1) / ((n - 1) * (f1 - 1) + 2)) if f1 > 0 else\n",
    "                      0)\n",
    "    W = (1 - C) / np.sum(x / n * (1 - x / n) ** n)\n",
    "    p = x / n * (1 - W * (1 - x / n) ** n)\n",
    "    f0 = np.ceil(((n - 1) / n * f1 ** 2 / (2 * f2)) if f2 > 0 else\n",
    "                 ((n - 1) / n * f1 * (f1 - 1) / 2))\n",
    "    p0 = (1 - C) / f0\n",
    "    p = np.hstack((p, np.array([p0 for i in np.arange(f0)])))\n",
    "    return p\n",
    "\n",
    "\n",
    "def bootstrap(x, n_iter=1000, conf=.95):\n",
    "    # define a multinomial probability distribution\n",
    "    # for the bootstrap procedure to sample from:\n",
    "    p, n = bt_prob(x), x.sum()\n",
    "    data_bt = np.random.multinomial(n, p, n_iter)\n",
    "    \n",
    "    pro = np.array([chao_richness(row) for row in data_bt])\n",
    "    \n",
    "    pro_mean = pro.mean(0)\n",
    "    \n",
    "    lci_pro = -np.quantile(pro, (1 - conf) / 2, axis=0) + pro_mean\n",
    "    uci_pro = np.quantile(pro, 1 - (1 - conf) / 2, axis=0) - pro_mean\n",
    "\n",
    "    sd_pro = np.std(pro, axis=0)\n",
    "\n",
    "    pro = pro_mean - pro\n",
    "    return (lci_pro, uci_pro, sd_pro, pro)"
   ]
  },
  {
   "cell_type": "code",
   "execution_count": 28,
   "metadata": {},
   "outputs": [],
   "source": [
    "def chao_estimate(x, n_iter=1000, conf=0.95):\n",
    "    pro = chao_richness(x)\n",
    "    (lci_pro, uci_pro, sd_pro, bt_pro) = bootstrap(x, n_iter=n_iter, conf=conf)\n",
    "    lci_pro, uci_pro = pro - lci_pro, pro + uci_pro\n",
    "    bt_pro = pro - bt_pro\n",
    "    return (lci_pro, uci_pro, bt_pro, pro)"
   ]
  },
  {
   "cell_type": "markdown",
   "metadata": {},
   "source": [
    "The following block applies this bootstrapped procedure to obtain the final estimates:"
   ]
  },
  {
   "cell_type": "code",
   "execution_count": 29,
   "metadata": {},
   "outputs": [
    {
     "name": "stdout",
     "output_type": "stream",
     "text": [
      "pro: 148.00750469043152\n",
      "lci_pro: 106.21863495939421\n",
      "uci_pro: 219.01578019221017\n"
     ]
    }
   ],
   "source": [
    "lci_pro, uci_pro, bt_pro, pro = chao_estimate(num_per_text, n_iter=10000)\n",
    "print('pro:', pro)\n",
    "print('lci_pro:', lci_pro)\n",
    "print('uci_pro:', uci_pro)"
   ]
  },
  {
   "cell_type": "markdown",
   "metadata": {},
   "source": [
    "The array `bt_pro` contains the estimates that were collected during the bootstrap (1,000 iterations by default). Below, we plot the distribution of these numbers using a rainplot: [removing rain_alpha =.3 argument on pt.RainCloud() because it is showing as invalid]"
   ]
  },
  {
   "cell_type": "code",
   "execution_count": 30,
   "metadata": {},
   "outputs": [
    {
     "data": {
      "image/png": "[encoded data removed]",
      "text/plain": [
       "<Figure size 576x432 with 1 Axes>"
      ]
     },
     "metadata": {
      "needs_background": "light"
     },
     "output_type": "display_data"
    }
   ],
   "source": [
    "import ptitprince as pt\n",
    "\n",
    "fig, ax = plt.subplots(figsize=(8, 6))\n",
    "\n",
    "d = list([(x, 'bootstrap') for x in bt_pro])\n",
    "bt = pd.DataFrame(d, columns=('bootstrap', 'type'))\n",
    "\n",
    "pt.RainCloud(\n",
    "    data=bt, x=\"type\", y=\"bootstrap\", ax=ax, \n",
    "    orient=\"h\", alpha=.8, bw=.2, rain_alpha=.3, palette=\"Greys\"\n",
    ")\n",
    "ax.axvline(pro, c='black', ls='--')\n",
    "ax.axvline(uci_pro, c='darkgrey', ls='--')\n",
    "ax.axvline(lci_pro, c='darkgrey', ls='--')\n",
    "ax.spines['right'].set_visible(False)\n",
    "ax.spines['top'].set_visible(False)\n",
    "ax.spines['left'].set_visible(False)\n",
    "ax.set_yticks([])\n",
    "ax.set_ylabel('')\n",
    "plt.savefig('output/Fig2.png', dpi=300, transparent=True)"
   ]
  },
  {
   "cell_type": "markdown",
   "metadata": {},
   "source": [
    "The idea that there were at least 100 texts is not completely unlikely, but it is a very\n",
    "conservative estimate, at the very bottom of the probability continuum. The estimate of ~148 manuscripts (or more) is much more plausible, which would mean that *at least half of\n",
    "the chivalric texts have been lost*.  Just as 100 is an extremely optimistic\n",
    "estimate, ~219 is the most pessimistic estimate: in that\n",
    "case, only a third of the ever available chivalric epics would have been persisted through\n",
    "time, which is quite a dramatic, but not entirely unrealistic figure."
   ]
  },
  {
   "cell_type": "markdown",
   "metadata": {},
   "source": [
    "## Species accumulation curve"
   ]
  },
  {
   "cell_type": "markdown",
   "metadata": {},
   "source": [
    "In what preceded, we have investigated how many unique texts may have been lost, or, more positively, how many unique texts we may have not yet seen. In this concluding section, we investigate how many texts should be retrieved before we arrive at this diversity estimate. This new estimate provides us with information about the total population size, i.e. the total number of text witnesses. We follow Hsieh, Ma and Chao (2016) to compute this estimate using \"Rarefaction Extrapolation\". For details about this method, see:\n",
    "\n",
    "> Hsieh, Ma and Chao (2016): iNEXT: an R package for rarefaction and extrapolation ofspecies diversity. *Methods in Ecology and Evolution*, 7, 1451–1456."
   ]
  },
  {
   "cell_type": "code",
   "execution_count": 31,
   "metadata": {},
   "outputs": [],
   "source": [
    "def bootstrap_re(x, fn=chao_richness, n_iter=1000, conf=.95):\n",
    "    # define a multinomial probability distribution\n",
    "    # for the bootstrap procedure to sample from:\n",
    "    p, n = bt_prob(x), x.sum()\n",
    "    data_bt = np.random.multinomial(n, p, n_iter)\n",
    "    \n",
    "    Dq = fn(x)\n",
    "    \n",
    "    pro = np.array([fn(row) for row in data_bt])\n",
    "    \n",
    "    error = stats.norm.ppf(1 - (1 - conf) / 2) * np.std(pro, 0)\n",
    "    lci_pro = Dq - error\n",
    "    uci_pro = Dq + error\n",
    "\n",
    "    sd_pro = np.std(pro, axis=0)\n",
    "\n",
    "    return (lci_pro, uci_pro, sd_pro, Dq, )\n",
    "\n",
    "\n",
    "def rarefaction_extrapolation(x, max_steps):\n",
    "    x, n = x[x > 0], x.sum()\n",
    "    def _sub(m):\n",
    "        if m <= n:\n",
    "            return np.sum(1 - np.array(\n",
    "                [np.exp(gammaln(n - i + 1) + gammaln(n - m + 1) - \n",
    "                        gammaln(n - i - m + 1) - gammaln(n + 1)) if i <= (n - m) else\n",
    "                 0 for i in x]))\n",
    "        else:\n",
    "            S = (x > 0).sum()\n",
    "            f1, f2 = (x == 1).sum(), (x == 2).sum()\n",
    "            f0 = ((n - 1) / n * f1 * (f1 - 1) / 2) if f2 == 0 else ((n - 1) / n * f1**2 / 2 / f2)\n",
    "            A = n * f0 / (n * f0 + f1)\n",
    "            return S if f1 == 0 else (S + f0 * (1 - A**(m - n)))\n",
    "    return np.array([_sub(mi) for mi in range(1, max_steps)])"
   ]
  },
  {
   "cell_type": "code",
   "execution_count": 32,
   "metadata": {},
   "outputs": [],
   "source": [
    "counts = np.bincount(mnl.groupby('text').size())[1:] # ignore zero\n",
    "x = np.array(sum([[i] * c for i, c in enumerate(counts, 1)], []))"
   ]
  },
  {
   "cell_type": "markdown",
   "metadata": {},
   "source": [
    "Here too we use a bootstrap method with 100 samples:"
   ]
  },
  {
   "cell_type": "code",
   "execution_count": 33,
   "metadata": {},
   "outputs": [],
   "source": [
    "max_steps = 1000\n",
    "lci_pro, uci_pro, sd_pro, Dq = bootstrap_re(\n",
    "    x, \n",
    "    fn=partial(rarefaction_extrapolation, max_steps=max_steps), \n",
    "    n_iter=100\n",
    ")"
   ]
  },
  {
   "cell_type": "code",
   "execution_count": 34,
   "metadata": {},
   "outputs": [
    {
     "data": {
      "image/png": "[encoded data removed]",
      "text/plain": [
       "<Figure size 576x432 with 1 Axes>"
      ]
     },
     "metadata": {
      "needs_background": "light"
     },
     "output_type": "display_data"
    }
   ],
   "source": [
    "steps = np.arange(1, max_steps)\n",
    "interpolated = np.arange(1, max_steps) < x.sum()\n",
    "\n",
    "fig, ax = plt.subplots(figsize=(8, 6))\n",
    "ax.plot(steps[interpolated], Dq[interpolated], color='C0')\n",
    "ax.plot(x.sum(), Dq[x.sum() - 1], 'o')\n",
    "ax.plot(steps[~interpolated], Dq[~interpolated], '--', color='C0')\n",
    "ax.fill_between(steps, lci_pro, uci_pro, alpha=0.3)\n",
    "ax.grid()\n",
    "ax.set(xlabel='# handschriften', ylabel='# teksten', title='Species Accumulation Curve')\n",
    "ax.spines['right'].set_visible(False)\n",
    "ax.spines['top'].set_visible(False)\n",
    "\n",
    "plt.savefig('output/Fig3.png', dpi=300, transparent=True)"
   ]
  },
  {
   "cell_type": "markdown",
   "metadata": {},
   "source": [
    "The graph clearly show that a significant part of the text witnesses has been lost (or has not yet been found). It is only at around 600 witnesses (and more), that the curve slowly flattens towards its asymptote."
   ]
  }
 ],
 "metadata": {
  "kernelspec": {
   "display_name": "Python 3",
   "language": "python",
   "name": "python3"
  },
  "language_info": {
   "codemirror_mode": {
    "name": "ipython",
    "version": 3
   },
   "file_extension": ".py",
   "mimetype": "text/x-python",
   "name": "python",
   "nbconvert_exporter": "python",
   "pygments_lexer": "ipython3",
   "version": "3.7.1"
  }
 },
 "nbformat": 4,
 "nbformat_minor": 2
}
