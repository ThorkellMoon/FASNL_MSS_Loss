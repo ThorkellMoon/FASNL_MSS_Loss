{
 "cells": [
  {
   "cell_type": "markdown",
   "metadata": {},
   "source": [
    "# Tekstverlies in de Middelnederlandse ridderepiek"
   ]
  },
  {
   "cell_type": "code",
   "execution_count": 192,
   "metadata": {},
   "outputs": [],
   "source": [
    "import numpy as np\n",
    "np.random.seed(12345)\n",
    "from scipy.special import erfinv\n",
    "import pandas as pd\n",
    "\n",
    "import matplotlib.pyplot as plt\n",
    "plt.style.use('seaborn-deep')\n",
    "%matplotlib inline"
   ]
  },
  {
   "cell_type": "markdown",
   "metadata": {},
   "source": [
    "## Data"
   ]
  },
  {
   "cell_type": "code",
   "execution_count": 193,
   "metadata": {},
   "outputs": [
    {
     "data": {
      "text/html": [
       "<div>\n",
       "<style scoped>\n",
       "    .dataframe tbody tr th:only-of-type {\n",
       "        vertical-align: middle;\n",
       "    }\n",
       "\n",
       "    .dataframe tbody tr th {\n",
       "        vertical-align: top;\n",
       "    }\n",
       "\n",
       "    .dataframe thead th {\n",
       "        text-align: right;\n",
       "    }\n",
       "</style>\n",
       "<table border=\"1\" class=\"dataframe\">\n",
       "  <thead>\n",
       "    <tr style=\"text-align: right;\">\n",
       "      <th></th>\n",
       "      <th>text</th>\n",
       "      <th>witness</th>\n",
       "    </tr>\n",
       "  </thead>\n",
       "  <tbody>\n",
       "    <tr>\n",
       "      <th>0</th>\n",
       "      <td>Aiol (1)</td>\n",
       "      <td>H1</td>\n",
       "    </tr>\n",
       "    <tr>\n",
       "      <th>1</th>\n",
       "      <td>Aiol (2)</td>\n",
       "      <td>H2</td>\n",
       "    </tr>\n",
       "    <tr>\n",
       "      <th>2</th>\n",
       "      <td>Alexanders Geesten</td>\n",
       "      <td>München, Bayerische Staatsbibliotheek, Cod. ge...</td>\n",
       "    </tr>\n",
       "    <tr>\n",
       "      <th>3</th>\n",
       "      <td>Alexanders Geesten</td>\n",
       "      <td>H3</td>\n",
       "    </tr>\n",
       "    <tr>\n",
       "      <th>4</th>\n",
       "      <td>Alexanders Geesten</td>\n",
       "      <td>H4</td>\n",
       "    </tr>\n",
       "    <tr>\n",
       "      <th>5</th>\n",
       "      <td>Alexanders Geesten</td>\n",
       "      <td>H5</td>\n",
       "    </tr>\n",
       "    <tr>\n",
       "      <th>6</th>\n",
       "      <td>Alexanders Geesten</td>\n",
       "      <td>H6</td>\n",
       "    </tr>\n",
       "    <tr>\n",
       "      <th>7</th>\n",
       "      <td>Arturs doet</td>\n",
       "      <td>Den Haag, KB, 129 A 10</td>\n",
       "    </tr>\n",
       "    <tr>\n",
       "      <th>8</th>\n",
       "      <td>Arturs doet</td>\n",
       "      <td>Croenen en Janssens</td>\n",
       "    </tr>\n",
       "    <tr>\n",
       "      <th>9</th>\n",
       "      <td>Aubri de Borgengoen</td>\n",
       "      <td>H7</td>\n",
       "    </tr>\n",
       "  </tbody>\n",
       "</table>\n",
       "</div>"
      ],
      "text/plain": [
       "                  text                                            witness\n",
       "0             Aiol (1)                                                 H1\n",
       "1             Aiol (2)                                                 H2\n",
       "2   Alexanders Geesten  München, Bayerische Staatsbibliotheek, Cod. ge...\n",
       "3   Alexanders Geesten                                                 H3\n",
       "4   Alexanders Geesten                                                 H4\n",
       "5   Alexanders Geesten                                                 H5\n",
       "6   Alexanders Geesten                                                 H6\n",
       "7          Arturs doet                             Den Haag, KB, 129 A 10\n",
       "8          Arturs doet                                Croenen en Janssens\n",
       "9  Aubri de Borgengoen                                                 H7"
      ]
     },
     "execution_count": 193,
     "metadata": {},
     "output_type": "execute_result"
    }
   ],
   "source": [
    "mnl = pd.read_excel('mnl.xlsx', header=None, names=('text', 'witness'))\n",
    "mnl.head(10)"
   ]
  },
  {
   "cell_type": "code",
   "execution_count": 194,
   "metadata": {},
   "outputs": [
    {
     "data": {
      "text/plain": [
       "text\n",
       "Historie van Troyen       12\n",
       "Madelgijs                 10\n",
       "Roman van Limborch         9\n",
       "Karel ende Elegast         7\n",
       "Parthonopeus van Bloys     6\n",
       "dtype: int64"
      ]
     },
     "execution_count": 194,
     "metadata": {},
     "output_type": "execute_result"
    }
   ],
   "source": [
    "mnl.groupby('text').size().sort_values(ascending=False).head()"
   ]
  },
  {
   "cell_type": "code",
   "execution_count": 195,
   "metadata": {},
   "outputs": [
    {
     "name": "stdout",
     "output_type": "stream",
     "text": [
      "[40 13  6  3  3  1  1  1  1  1]\n"
     ]
    }
   ],
   "source": [
    "labels, mnl_counts = np.unique(mnl.groupby('text').size(), return_counts=True)\n",
    "print(mnl_counts)"
   ]
  },
  {
   "cell_type": "code",
   "execution_count": 196,
   "metadata": {},
   "outputs": [
    {
     "data": {
      "image/png": "[encoded data removed]",
      "text/plain": [
       "<Figure size 432x288 with 1 Axes>"
      ]
     },
     "metadata": {
      "needs_background": "light"
     },
     "output_type": "display_data"
    }
   ],
   "source": [
    "plt.bar(labels, mnl_counts, align='center')\n",
    "plt.title('Histogram')\n",
    "plt.gca().set_xticks(labels);"
   ]
  },
  {
   "cell_type": "code",
   "execution_count": 197,
   "metadata": {},
   "outputs": [
    {
     "name": "stdout",
     "output_type": "stream",
     "text": [
      "# unieke teksten: 70\n",
      "# unieke handschriften: 155\n"
     ]
    }
   ],
   "source": [
    "def species_richness(counts):\n",
    "    return np.sum(counts > 0)\n",
    "\n",
    "print('# unieke teksten:', species_richness(mnl.groupby('text').size()))\n",
    "print('# unieke handschriften:', len(mnl))"
   ]
  },
  {
   "cell_type": "markdown",
   "metadata": {},
   "source": [
    "Waarom spreken we over *bias*? Omdat het belang of aandeel van de huidige observaties vrij consequent wordt over-schat: indien er nieuwe observaties worden bijgevonden, neemt het gewicht van de oude observaties immers proportioneel gesproken telkens wat af. We kennen bijvoorbeeld de volgende handschriften van de *Historie van Troyen*:"
   ]
  },
  {
   "cell_type": "code",
   "execution_count": 198,
   "metadata": {},
   "outputs": [
    {
     "name": "stdout",
     "output_type": "stream",
     "text": [
      "12\n"
     ]
    },
    {
     "data": {
      "text/html": [
       "<div>\n",
       "<style scoped>\n",
       "    .dataframe tbody tr th:only-of-type {\n",
       "        vertical-align: middle;\n",
       "    }\n",
       "\n",
       "    .dataframe tbody tr th {\n",
       "        vertical-align: top;\n",
       "    }\n",
       "\n",
       "    .dataframe thead th {\n",
       "        text-align: right;\n",
       "    }\n",
       "</style>\n",
       "<table border=\"1\" class=\"dataframe\">\n",
       "  <thead>\n",
       "    <tr style=\"text-align: right;\">\n",
       "      <th></th>\n",
       "      <th>text</th>\n",
       "      <th>witness</th>\n",
       "    </tr>\n",
       "  </thead>\n",
       "  <tbody>\n",
       "    <tr>\n",
       "      <th>123</th>\n",
       "      <td>Historie van Troyen</td>\n",
       "      <td>Brussel, KBR, IV 927</td>\n",
       "    </tr>\n",
       "    <tr>\n",
       "      <th>124</th>\n",
       "      <td>Historie van Troyen</td>\n",
       "      <td>Brussel, KBR, 15.589-623</td>\n",
       "    </tr>\n",
       "    <tr>\n",
       "      <th>125</th>\n",
       "      <td>Historie van Troyen</td>\n",
       "      <td>H106</td>\n",
       "    </tr>\n",
       "    <tr>\n",
       "      <th>126</th>\n",
       "      <td>Historie van Troyen</td>\n",
       "      <td>H107</td>\n",
       "    </tr>\n",
       "    <tr>\n",
       "      <th>127</th>\n",
       "      <td>Historie van Troyen</td>\n",
       "      <td>H108</td>\n",
       "    </tr>\n",
       "    <tr>\n",
       "      <th>128</th>\n",
       "      <td>Historie van Troyen</td>\n",
       "      <td>H109</td>\n",
       "    </tr>\n",
       "    <tr>\n",
       "      <th>129</th>\n",
       "      <td>Historie van Troyen</td>\n",
       "      <td>H110</td>\n",
       "    </tr>\n",
       "    <tr>\n",
       "      <th>130</th>\n",
       "      <td>Historie van Troyen</td>\n",
       "      <td>H111</td>\n",
       "    </tr>\n",
       "    <tr>\n",
       "      <th>131</th>\n",
       "      <td>Historie van Troyen</td>\n",
       "      <td>H112</td>\n",
       "    </tr>\n",
       "    <tr>\n",
       "      <th>132</th>\n",
       "      <td>Historie van Troyen</td>\n",
       "      <td>H113</td>\n",
       "    </tr>\n",
       "    <tr>\n",
       "      <th>133</th>\n",
       "      <td>Historie van Troyen</td>\n",
       "      <td>H114</td>\n",
       "    </tr>\n",
       "    <tr>\n",
       "      <th>134</th>\n",
       "      <td>Historie van Troyen</td>\n",
       "      <td>H115</td>\n",
       "    </tr>\n",
       "  </tbody>\n",
       "</table>\n",
       "</div>"
      ],
      "text/plain": [
       "                    text                   witness\n",
       "123  Historie van Troyen      Brussel, KBR, IV 927\n",
       "124  Historie van Troyen  Brussel, KBR, 15.589-623\n",
       "125  Historie van Troyen                      H106\n",
       "126  Historie van Troyen                      H107\n",
       "127  Historie van Troyen                      H108\n",
       "128  Historie van Troyen                      H109\n",
       "129  Historie van Troyen                      H110\n",
       "130  Historie van Troyen                      H111\n",
       "131  Historie van Troyen                      H112\n",
       "132  Historie van Troyen                      H113\n",
       "133  Historie van Troyen                      H114\n",
       "134  Historie van Troyen                      H115"
      ]
     },
     "execution_count": 198,
     "metadata": {},
     "output_type": "execute_result"
    }
   ],
   "source": [
    "hvt = mnl[mnl['text'] == 'Historie van Troyen']\n",
    "print(len(hvt))\n",
    "hvt"
   ]
  },
  {
   "cell_type": "markdown",
   "metadata": {},
   "source": [
    "Dit gebeurt er bijvoorbeeld met het relatieve belang van 'H112', als er een nieuw fragment opduikt (wat recent ook echt is gebeurd):"
   ]
  },
  {
   "cell_type": "code",
   "execution_count": 199,
   "metadata": {},
   "outputs": [
    {
     "name": "stdout",
     "output_type": "stream",
     "text": [
      "Proportioneel aandeel in de HvT-traditie: 0.08333333333333333 vs 0.07692307692307693\n",
      "Proportioneel aandeel in de volledige traditie: 0.0064516129032258064 vs 0.00641025641025641\n"
     ]
    }
   ],
   "source": [
    "print('Proportioneel aandeel in de HvT-traditie:', 1 / len(hvt), 'vs', 1 / (len(hvt) + 1))\n",
    "print('Proportioneel aandeel in de volledige traditie:', 1 / len(mnl), 'vs', 1 / (len(mnl) + 1))"
   ]
  },
  {
   "cell_type": "markdown",
   "metadata": {},
   "source": [
    "## Jackknife"
   ]
  },
  {
   "cell_type": "markdown",
   "metadata": {},
   "source": [
    "We willen dus de bias in deze dataset dus berekenen en gebruik om bepaalde tellingen, zoals het aantal soorten, op een verantwoord manier naar boven bij te stellen. Een eenvoudige, op dit moment al ietwat verouderde methode is de zogenaamde *first-order jackknife*, het 'knipmes van de eerste orde'. We itereren over alle handschriften en laten telkens één tekstgetuige weg, waarna we opnieuw de soortenrijkdom in de iets verkleinde dataset berekenen. Vervolgens nemen we gemiddelde van de verkregen waarden en we berekenen hoe ver we van de rijkdom van de volledige set verwijderd waren. Deze bias kan vervolgens verrekend worden door deze af te trekken van de oncorrigeerde soortenrijkdom:"
   ]
  },
  {
   "cell_type": "code",
   "execution_count": 200,
   "metadata": {},
   "outputs": [
    {
     "name": "stdout",
     "output_type": "stream",
     "text": [
      "jackknife-estimate (order=1): 109.74193548387203\n"
     ]
    }
   ],
   "source": [
    "def jackknife(data, conf_lvl = .95):\n",
    "    jack_stat = species_richness(data)\n",
    "    \n",
    "    x = np.array(sum([[i]*c for i, c in enumerate(data, 1)], []))\n",
    "    index = np.arange(x.shape[0])\n",
    "    \n",
    "    vals = []\n",
    "    for i in range(x.shape[0]):\n",
    "        t = x[index != i]\n",
    "        vals.append(species_richness(np.bincount(t)))\n",
    "    \n",
    "    mean_jack_stat = np.mean(vals)\n",
    "    bias = (x.shape[0]-1) * (mean_jack_stat - jack_stat)\n",
    "    \n",
    "    estimate = jack_stat - bias\n",
    "    \n",
    "    std_err = np.sqrt((x.shape[0] - 1) * np.mean((mean_jack_stat - vals) * (mean_jack_stat - vals), axis=0))    \n",
    "    \n",
    "    z_score = np.sqrt(2.0) * erfinv(conf_lvl)\n",
    "    conf_interval = estimate + z_score * np.array((-std_err, std_err))\n",
    "    \n",
    "    return estimate, std_err, conf_interval\n",
    "\n",
    "results = jackknife(mnl.groupby('text').size())\n",
    "print('jackknife-estimate (order=1):', results[0])"
   ]
  },
  {
   "cell_type": "markdown",
   "metadata": {},
   "source": [
    "Deze berekening is ook vrij eenvoudig analytisch uit te voeren:"
   ]
  },
  {
   "cell_type": "code",
   "execution_count": 201,
   "metadata": {},
   "outputs": [],
   "source": [
    "num_per_text = mnl.groupby('text').size()"
   ]
  },
  {
   "cell_type": "markdown",
   "metadata": {},
   "source": [
    "Het totale aantal unieke teksten is *t*:"
   ]
  },
  {
   "cell_type": "code",
   "execution_count": 202,
   "metadata": {},
   "outputs": [
    {
     "data": {
      "text/plain": [
       "70"
      ]
     },
     "execution_count": 202,
     "metadata": {},
     "output_type": "execute_result"
    }
   ],
   "source": [
    "t = species_richness(num_per_text)\n",
    "t"
   ]
  },
  {
   "cell_type": "markdown",
   "metadata": {},
   "source": [
    "Het aantal teksten dat slechts één keer voorkomt is *s*:"
   ]
  },
  {
   "cell_type": "code",
   "execution_count": 203,
   "metadata": {},
   "outputs": [
    {
     "data": {
      "text/plain": [
       "40"
      ]
     },
     "execution_count": 203,
     "metadata": {},
     "output_type": "execute_result"
    }
   ],
   "source": [
    "s = sum(num_per_text == 1)\n",
    "s"
   ]
  },
  {
   "cell_type": "markdown",
   "metadata": {},
   "source": [
    "Gemiddeld bekomen we dus deze afwijking:"
   ]
  },
  {
   "cell_type": "code",
   "execution_count": 209,
   "metadata": {},
   "outputs": [
    {
     "data": {
      "text/plain": [
       "69.42857142857143"
      ]
     },
     "execution_count": 209,
     "metadata": {},
     "output_type": "execute_result"
    }
   ],
   "source": [
    "mu = (((t - s) * t) + (s * (t - 1))) / t\n",
    "mu"
   ]
  },
  {
   "cell_type": "markdown",
   "metadata": {},
   "source": [
    "Zodat we de bias als volgt kunnen vaststellen:"
   ]
  },
  {
   "cell_type": "code",
   "execution_count": 210,
   "metadata": {},
   "outputs": [
    {
     "data": {
      "text/plain": [
       "-39.42857142857129"
      ]
     },
     "execution_count": 210,
     "metadata": {},
     "output_type": "execute_result"
    }
   ],
   "source": [
    "bias = (t - 1) * (mu - t)\n",
    "bias"
   ]
  },
  {
   "cell_type": "markdown",
   "metadata": {},
   "source": [
    "En als volgt kunnen we dit verrekenen:"
   ]
  },
  {
   "cell_type": "code",
   "execution_count": 211,
   "metadata": {},
   "outputs": [
    {
     "data": {
      "text/plain": [
       "109.42857142857129"
      ]
     },
     "execution_count": 211,
     "metadata": {},
     "output_type": "execute_result"
    }
   ],
   "source": [
    "t - bias"
   ]
  },
  {
   "cell_type": "code",
   "execution_count": null,
   "metadata": {},
   "outputs": [],
   "source": []
  }
 ],
 "metadata": {
  "kernelspec": {
   "display_name": "Python (py36)",
   "language": "python",
   "name": "py36"
  },
  "language_info": {
   "codemirror_mode": {
    "name": "ipython",
    "version": 3
   },
   "file_extension": ".py",
   "mimetype": "text/x-python",
   "name": "python",
   "nbconvert_exporter": "python",
   "pygments_lexer": "ipython3",
   "version": "3.6.8"
  }
 },
 "nbformat": 4,
 "nbformat_minor": 2
}
